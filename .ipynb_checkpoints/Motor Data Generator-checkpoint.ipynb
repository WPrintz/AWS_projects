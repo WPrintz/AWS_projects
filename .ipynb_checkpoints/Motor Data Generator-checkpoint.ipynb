{
 "cells": [
  {
   "cell_type": "markdown",
   "metadata": {},
   "source": [
    "This Jupyter Notebook was used to generate example data for an AC Motor data logging demonstration.\n",
    "\n",
    "Intent of this demo data is to be written to S3 object storage, then imported to QuickSight SPICE for further dashboarding and analytics.\n",
    "\n",
    "Reference: https://en.wikipedia.org/wiki/Induction_motor\n",
    "\n",
    "Last modified date: Feb 26, 2019"
   ]
  },
  {
   "cell_type": "code",
   "execution_count": 125,
   "metadata": {},
   "outputs": [],
   "source": [
    "import csv\n",
    "import datetime"
   ]
  },
  {
   "cell_type": "code",
   "execution_count": 194,
   "metadata": {},
   "outputs": [],
   "source": [
    "# Function to calculate the \"measured\" values from the input example data.  Calculated per row.\n",
    "\n",
    "def row_filler(hour, minute, seconds, poles, freq, res, curr, volt, slip):\n",
    "    ns = round((120 * freq / poles), 2)\n",
    "    nr = round((ns - (ns * slip)), 2)\n",
    "    power = round((3 * res * curr * curr * nr / slip / ns), 2)\n",
    "    torque = round(((3 * volt * volt * slip) / ((0.1047197 * ns) * res)),2)\n",
    "    temp = 23 + (power/1000)\n",
    "    return ns, nr, temp, power, torque"
   ]
  },
  {
   "cell_type": "code",
   "execution_count": 203,
   "metadata": {},
   "outputs": [
    {
     "name": "stdout",
     "output_type": "stream",
     "text": [
      "2019-01-04T00:00:00\n"
     ]
    }
   ],
   "source": [
    "# Sets up the CSV file to be written and defines the headers.\n",
    "# Note: Overwrites existing file\n",
    "\n",
    "dt = datetime.datetime(2019,1,4, tzinfo=datetime.timezone.utc)\n",
    "start = (dt - datetime.datetime(1970, 1, 1, tzinfo=datetime.timezone.utc)).total_seconds()\n",
    "print(datetime.datetime.fromtimestamp(start, tz=datetime.timezone.utc).isoformat()[:-6])\n",
    "\n",
    "filename = 'datalog_{}.csv'.format(dt.isoformat()[:10])\n",
    "\n",
    "header = ['unit_id',\n",
    "          'datetime',\n",
    "          'Poles',\n",
    "          'Frequency (Hz)', \n",
    "          'Resistance (Ohm)',\n",
    "          'Current (A)',\n",
    "          'Voltage (V)',\n",
    "          'Slip',\n",
    "          'ns (rpm)', \n",
    "          'nr (rpm)',\n",
    "          'Temperature (C)',\n",
    "          'Power (W)',\n",
    "          'Torque (N-m)']\n",
    "\n",
    "with open(filename, 'w', newline='') as csvfile:\n",
    "    mywriter = csv.writer(csvfile, delimiter=',')\n",
    "    mywriter.writerow(header)"
   ]
  },
  {
   "cell_type": "code",
   "execution_count": 204,
   "metadata": {},
   "outputs": [],
   "source": [
    "# Calculate the \"measured\" values and write to CSV.  Writes one row per second for 24 hours.  \n",
    "# Test input conditions are modified periodically to make the data look interesting.\n",
    "\n",
    "unit_id='lab_71B'\n",
    "diffsecs = 0\n",
    "temp = 23\n",
    "freq = 40\n",
    "poles = 4\n",
    "res = .25\n",
    "curr = 100\n",
    "volt = 200\n",
    "slip = 0.25\n",
    "\n",
    "with open(filename, 'a', newline='') as csvfile:\n",
    "    mywriter = csv.writer(csvfile, delimiter=',')\n",
    "\n",
    "    for hour in range(24):\n",
    "        if hour%2 == 0:\n",
    "            freq += 5\n",
    "            if hour%4 == 0:\n",
    "                curr += 20\n",
    "        elif hour == 11:\n",
    "            freq = 50\n",
    "            curr = 100\n",
    "        for minute in range(60):\n",
    "            if minute == 0:\n",
    "                volt = 200\n",
    "            elif minute%10 == 0:\n",
    "                volt += 20\n",
    "            for seconds in range(60):\n",
    "                dt = datetime.datetime.fromtimestamp(start+diffsecs, tz=datetime.timezone.utc).isoformat()[:-6]\n",
    "                ns, nr, temp, power, torque = row_filler(hour, minute, seconds, poles, freq, res, curr, volt, slip)\n",
    "                if minute <= 30:\n",
    "                    temp += (minute*60 + seconds)/1800 * 20\n",
    "                else:\n",
    "                    temp += 20\n",
    "                mywriter.writerow([unit_id, \n",
    "                       dt,\n",
    "                      poles,\n",
    "                      freq, \n",
    "                      res,\n",
    "                      curr,\n",
    "                      volt,\n",
    "                      slip,\n",
    "                      ns, \n",
    "                      nr,\n",
    "                      round(temp, 2),\n",
    "                      power,\n",
    "                      torque])\n",
    "                diffsecs += 1"
   ]
  }
 ],
 "metadata": {
  "kernelspec": {
   "display_name": "Python 3",
   "language": "python",
   "name": "python3"
  },
  "language_info": {
   "codemirror_mode": {
    "name": "ipython",
    "version": 3
   },
   "file_extension": ".py",
   "mimetype": "text/x-python",
   "name": "python",
   "nbconvert_exporter": "python",
   "pygments_lexer": "ipython3",
   "version": "3.6.7"
  }
 },
 "nbformat": 4,
 "nbformat_minor": 2
}
